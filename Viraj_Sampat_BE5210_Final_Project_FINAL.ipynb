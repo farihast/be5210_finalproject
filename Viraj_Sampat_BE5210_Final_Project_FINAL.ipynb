{
  "cells": [
    {
      "cell_type": "markdown",
      "metadata": {
        "id": "view-in-github",
        "colab_type": "text"
      },
      "source": [
        "<a href=\"https://colab.research.google.com/github/farihast/be5210_finalproject/blob/viraj/Viraj_Sampat_BE5210_Final_Project_FINAL.ipynb\" target=\"_parent\"><img src=\"https://colab.research.google.com/assets/colab-badge.svg\" alt=\"Open In Colab\"/></a>"
      ]
    },
    {
      "cell_type": "markdown",
      "metadata": {
        "id": "m3YlFsZyA6mw"
      },
      "source": [
        "# Import Packages and Datasets"
      ]
    },
    {
      "cell_type": "code",
      "execution_count": null,
      "metadata": {
        "id": "nxipD_kIKoiQ"
      },
      "outputs": [],
      "source": [
        "#Set up the notebook environment\n",
        "import matplotlib.pyplot as plt\n",
        "import numpy as np\n",
        "import pandas as pd\n",
        "import pickle\n",
        "from scipy.stats import pearsonr\n",
        "from scipy import signal as sig\n",
        "from pathlib import Path\n",
        "from sklearn.model_selection import train_test_split\n",
        "import scipy\n",
        "#from scipy.fft import fft, rfft, irfft, fftfreq, rfftfreq\n",
        "from scipy.interpolate import CubicSpline\n",
        "from scipy.io import savemat\n",
        "from sklearn.linear_model import LassoCV\n",
        "from sklearn.linear_model import Lasso"
      ]
    },
    {
      "cell_type": "code",
      "execution_count": null,
      "metadata": {
        "colab": {
          "base_uri": "https://localhost:8080/"
        },
        "id": "022DhjdVK2Pm",
        "outputId": "6f831bd9-dcf0-4abf-c294-ce6b996df5ba"
      },
      "outputs": [
        {
          "output_type": "stream",
          "name": "stdout",
          "text": [
            "Drive already mounted at /content/drive; to attempt to forcibly remount, call drive.mount(\"/content/drive\", force_remount=True).\n"
          ]
        }
      ],
      "source": [
        "from google.colab import drive\n",
        "drive.mount('/content/drive')"
      ]
    },
    {
      "cell_type": "code",
      "execution_count": null,
      "metadata": {
        "id": "lj3ljvw8K2pf"
      },
      "outputs": [],
      "source": [
        "with open('/content/drive/MyDrive/BE5210_FinalProject/leaderboard_data.mat', 'rb') as g:\n",
        "  leaderboard_data = scipy.io.loadmat('/content/drive/MyDrive/BE5210_FinalProject/leaderboard_data.mat')\n",
        "leaderboard_ecog = leaderboard_data['leaderboard_ecog']"
      ]
    },
    {
      "cell_type": "code",
      "execution_count": null,
      "metadata": {
        "id": "8gld2Gf-A0dR"
      },
      "outputs": [],
      "source": [
        "with open('/content/drive/MyDrive/BE5210_FinalProject/raw_training_data.mat', 'rb') as g:\n",
        "  raw_training_data = scipy.io.loadmat('/content/drive/MyDrive/BE5210_FinalProject/raw_training_data.mat')\n",
        "train_dg = raw_training_data['train_dg']\n",
        "train_ecog = raw_training_data['train_ecog']"
      ]
    },
    {
      "cell_type": "code",
      "execution_count": null,
      "metadata": {
        "colab": {
          "base_uri": "https://localhost:8080/"
        },
        "id": "GlAe5OmkBOcs",
        "outputId": "9e212313-fcee-49ea-a719-0f6884889edd"
      },
      "outputs": [
        {
          "output_type": "stream",
          "name": "stdout",
          "text": [
            "dict_keys(['__header__', '__version__', '__globals__', 'leaderboard_ecog'])\n",
            "dict_keys(['__header__', '__version__', '__globals__', 'train_dg', 'train_ecog'])\n"
          ]
        }
      ],
      "source": [
        "print(leaderboard_data.keys())\n",
        "print(raw_training_data.keys())"
      ]
    },
    {
      "cell_type": "code",
      "execution_count": null,
      "metadata": {
        "colab": {
          "base_uri": "https://localhost:8080/"
        },
        "id": "14JFwpZHBkaT",
        "outputId": "0d2c3dde-5be1-4999-8b1b-7a63055b3601"
      },
      "outputs": [
        {
          "output_type": "stream",
          "name": "stdout",
          "text": [
            "[] 1.0 b'MATLAB 5.0 MAT-file, Platform: MACI64, Created on: Thu Apr  9 21:34:40 2020'\n",
            "[] 1.0 b'MATLAB 5.0 MAT-file, Platform: MACI64, Created on: Fri Apr 10 12:52:24 2020'\n"
          ]
        }
      ],
      "source": [
        "print(leaderboard_data['__globals__'], leaderboard_data['__version__'], leaderboard_data['__header__'])\n",
        "print(raw_training_data['__globals__'], raw_training_data['__version__'], raw_training_data['__header__'])"
      ]
    },
    {
      "cell_type": "code",
      "execution_count": null,
      "metadata": {
        "colab": {
          "base_uri": "https://localhost:8080/"
        },
        "id": "2PQmYTX7CSSq",
        "outputId": "40853963-61fa-40ff-f5a4-a19ae3588aaa"
      },
      "outputs": [
        {
          "output_type": "stream",
          "name": "stdout",
          "text": [
            "(3, 1) (3, 1) (3, 1)\n"
          ]
        }
      ],
      "source": [
        "print(leaderboard_ecog.shape, train_dg.shape, train_ecog.shape)"
      ]
    },
    {
      "cell_type": "code",
      "execution_count": null,
      "metadata": {
        "colab": {
          "base_uri": "https://localhost:8080/"
        },
        "id": "s0zShTh7NvqO",
        "outputId": "6129ec0d-b404-4aea-dfa5-5b2a6aaf335f"
      },
      "outputs": [
        {
          "output_type": "execute_result",
          "data": {
            "text/plain": [
              "(300000, 5)"
            ]
          },
          "metadata": {},
          "execution_count": 152
        }
      ],
      "source": [
        "train_dg[0][0].shape"
      ]
    },
    {
      "cell_type": "code",
      "execution_count": null,
      "metadata": {
        "colab": {
          "base_uri": "https://localhost:8080/"
        },
        "id": "A1po7e2ANyMy",
        "outputId": "9ef243d7-2771-4ceb-8a19-6bd933d02e71"
      },
      "outputs": [
        {
          "output_type": "execute_result",
          "data": {
            "text/plain": [
              "(300000, 48)"
            ]
          },
          "metadata": {},
          "execution_count": 153
        }
      ],
      "source": [
        "train_ecog[1][0].shape"
      ]
    },
    {
      "cell_type": "code",
      "execution_count": null,
      "metadata": {
        "id": "DJhDc0Wl34NN"
      },
      "outputs": [],
      "source": [
        "train_ecog[0][0] = np.delete(train_ecog[0][0], 54, 1)\n",
        "#train_ecog[0][0] = train_ecog[0][0][:,np.array([0, 39, 42, 20, 1, 41, 22, 43, 12])]\n",
        "train_ecog[1][0] = np.delete(train_ecog[1][0], 37, 1)\n",
        "train_ecog[1][0] = np.delete(train_ecog[1][0], 20, 1)\n",
        "\n",
        "leaderboard_ecog[0][0] = np.delete(leaderboard_ecog[0][0], 54, 1)\n",
        "#leaderboard_ecog[0][0] = leaderboard_ecog[0][0][:,np.array([0, 39, 42, 20, 1, 41, 22, 43, 12])]\n",
        "leaderboard_ecog[1][0] = np.delete(leaderboard_ecog[1][0], 37, 1)\n",
        "leaderboard_ecog[1][0] = np.delete(leaderboard_ecog[1][0], 20, 1)"
      ]
    },
    {
      "cell_type": "code",
      "execution_count": null,
      "metadata": {
        "colab": {
          "base_uri": "https://localhost:8080/"
        },
        "id": "lJaae08VaL4e",
        "outputId": "95c5cd89-6a75-4ef7-f3b8-fe5eb0c5e428"
      },
      "outputs": [
        {
          "output_type": "stream",
          "name": "stdout",
          "text": [
            "(300000, 61)\n",
            "(147500, 61)\n"
          ]
        }
      ],
      "source": [
        "print(train_ecog[0][0].shape)\n",
        "print(leaderboard_ecog[0][0].shape)"
      ]
    },
    {
      "cell_type": "code",
      "execution_count": null,
      "metadata": {
        "colab": {
          "base_uri": "https://localhost:8080/"
        },
        "id": "KiiAkyAONonj",
        "outputId": "401cfe9c-dd20-4f67-f3ac-f613f53d6c2a"
      },
      "outputs": [
        {
          "output_type": "stream",
          "name": "stdout",
          "text": [
            "270000\n",
            "30000\n"
          ]
        }
      ],
      "source": [
        "from sklearn.model_selection import train_test_split\n",
        "\n",
        "X_train1, X_test1, y_train1, y_test1 = train_test_split(train_ecog[0][0], train_dg[0][0], test_size=0.10, shuffle = False)\n",
        "X_train2, X_test2, y_train2, y_test2 = train_test_split(train_ecog[1][0], train_dg[1][0], test_size=0.10, shuffle = False)\n",
        "X_train3, X_test3, y_train3, y_test3 = train_test_split(train_ecog[2][0], train_dg[2][0], test_size=0.10, shuffle = False)\n",
        "\n",
        "print(X_train1.shape[0])\n",
        "print(X_test1.shape[0])"
      ]
    },
    {
      "cell_type": "code",
      "execution_count": null,
      "metadata": {
        "id": "5zSuquiGb7W3"
      },
      "outputs": [],
      "source": [
        "leader_x1 = leaderboard_ecog[0][0]\n",
        "leader_x2 = leaderboard_ecog[1][0]\n",
        "leader_x3 = leaderboard_ecog[2][0]"
      ]
    },
    {
      "cell_type": "markdown",
      "metadata": {
        "id": "QedYtMapMlwY"
      },
      "source": [
        "#Filter Data"
      ]
    },
    {
      "cell_type": "code",
      "execution_count": null,
      "metadata": {
        "id": "UkJdWmioMna1"
      },
      "outputs": [],
      "source": [
        "def filter_data(raw_eeg, fs=1000):\n",
        "  \"\"\"\n",
        "  Write a filter function to clean underlying data.\n",
        "  Filter type and parameters are up to you. Points will be awarded for reasonable filter type, parameters and application.\n",
        "  Please note there are many acceptable answers, but make sure you aren't throwing out crucial data or adversly\n",
        "  distorting the underlying data!\n",
        "\n",
        "  Input: \n",
        "    raw_eeg (samples x channels): the raw signal\n",
        "    fs: the sampling rate (1000 for this dataset)\n",
        "  Output: \n",
        "    clean_data (samples x channels): the filtered signal\n",
        "  \"\"\"\n",
        "  filter = sig.firwin(50, [1, 400], fs = fs, pass_zero = 'bandpass')\n",
        "  #filter = sig.firwin(251, [60, 200], fs = fs, pass_zero = False)\n",
        "  filtered_data = sig.filtfilt(filter, [1], raw_eeg, axis = 0)\n",
        "  return filtered_data"
      ]
    },
    {
      "cell_type": "code",
      "execution_count": null,
      "metadata": {
        "colab": {
          "base_uri": "https://localhost:8080/"
        },
        "id": "L5_kb1FrPf1t",
        "outputId": "8e140d39-94df-4d21-aca0-bb0dc5192a11"
      },
      "outputs": [
        {
          "output_type": "stream",
          "name": "stdout",
          "text": [
            "(270000, 61)\n"
          ]
        }
      ],
      "source": [
        "filt_sig = filter_data(X_train1)\n",
        "print(filt_sig.shape)"
      ]
    },
    {
      "cell_type": "markdown",
      "metadata": {
        "id": "7kbQhbISQNMz"
      },
      "source": [
        "#Windows"
      ]
    },
    {
      "cell_type": "code",
      "execution_count": null,
      "metadata": {
        "id": "LYLGD8nXMprB"
      },
      "outputs": [],
      "source": [
        "'''\n",
        "def num_windows(x, fs,winLen, winDisp):\n",
        "  xLen = len(x)\n",
        "  winLen_vals = winLen * fs\n",
        "  winDisp_vals =winDisp * fs\n",
        "  return int((xLen - winLen_vals) / winDisp_vals ) +1\n",
        "\n",
        "def MovingWinFeats(x, fs, winLen, winDisp, featFn):\n",
        "  xLen = len(x)\n",
        "  #NumWins(fs, winLen, winDisp, x)\n",
        "  numWins = num_windows(fs, winLen, winDisp, x)\n",
        "  result = []\n",
        "  wd_fs = winDisp*fs\n",
        "  wl_fs = winLen*fs\n",
        "  for i in range(numWins):\n",
        "    finish = (xLen - 1) - wd_fs *i \n",
        "    start = finish - wl_fs\n",
        "    win = x[int(start):int(finish)]\n",
        "    result.append(featFn(win))\n",
        "  result.reverse()\n",
        "  return result\n",
        "\n",
        "'''\n",
        "def num_windows(x, fs, winLen, winDisp):\n",
        "  xLen = len(x)  # length of signal [samples]\n",
        "  return (int)((xLen - winLen*fs) / (winDisp*fs) + 1)\n",
        "'''\n",
        "def num_windows(x, fs,winLen, winDisp):\n",
        "  xLen = len(x)\n",
        "  winLen_vals = winLen * fs\n",
        "  winDisp_vals =winDisp * fs\n",
        "  return int((xLen - winLen_vals) / winDisp_vals ) +1\n",
        "'''\n",
        "def MovingWinFeats(x, fs, winLen, winDisp, featFn):\n",
        "  xLen = len(x)\n",
        "  #NumWins(fs, winLen, winDisp, x)\n",
        "  numWins = num_windows(x, fs,winLen, winDisp)\n",
        "  result = []\n",
        "  wd_fs = winDisp*fs\n",
        "  wl_fs = winLen*fs\n",
        "  for i in range(numWins):\n",
        "    finish = (xLen - 1) - wd_fs *i \n",
        "    start = finish - wl_fs\n",
        "    win = x[int(start):int(finish)]\n",
        "    result.append(featFn(win))\n",
        "  result.reverse()\n",
        "  return result\n"
      ]
    },
    {
      "cell_type": "code",
      "execution_count": null,
      "metadata": {
        "id": "fHqzXwvvFQZd"
      },
      "outputs": [],
      "source": []
    },
    {
      "cell_type": "code",
      "execution_count": null,
      "metadata": {
        "colab": {
          "base_uri": "https://localhost:8080/"
        },
        "id": "lStNEdC1MsEv",
        "outputId": "ec9998fb-037d-478e-8137-24e61fac87ff"
      },
      "outputs": [
        {
          "output_type": "stream",
          "name": "stdout",
          "text": [
            "10793\n"
          ]
        }
      ],
      "source": [
        "wins = num_windows(y_train1, 1000, .200, .025)\n",
        "print(wins)\n"
      ]
    },
    {
      "cell_type": "code",
      "execution_count": null,
      "metadata": {
        "id": "svw5Nbm-C6TO"
      },
      "outputs": [],
      "source": [
        "def AvgFreqDomainMagnitude(x, bandrange):\n",
        "  yf = np.abs(np.fft.fft(x, axis = 0))\n",
        "  xf = np.fft.fftfreq(len(x[:,0]), 1/1000)\n",
        "\n",
        "  indices = np.where((xf >= bandrange[0]) & (xf <= bandrange[1]))[0]\n",
        "  #return np.sum(np.square(yf[indices]))\n",
        "  #if np.isnan(np.mean(yf[indices,:], axis=0)).any():\n",
        "  #  return 0\n",
        "  #else:  \n",
        "  return np.nanmean(yf[indices,:], axis=0)"
      ]
    },
    {
      "cell_type": "code",
      "execution_count": null,
      "metadata": {
        "id": "KylZUwqcDwsm"
      },
      "outputs": [],
      "source": [
        "def AvgVoltageTimeDomain(x):\n",
        "  return np.mean(x, axis = 0)"
      ]
    },
    {
      "cell_type": "code",
      "execution_count": null,
      "metadata": {
        "id": "xU8YCelA1yxv"
      },
      "outputs": [],
      "source": [
        "'''\n",
        "def get_features(filtered_window, fs=1000):\n",
        "  \"\"\"\n",
        "    Write a function that calculates features for a given filtered window. \n",
        "    Feel free to use features you have seen before in this class, features that\n",
        "    have been used in the literature, or design your own!\n",
        "    Input: \n",
        "      filtered_window (window_samples x channels): the window of the filtered ecog signal \n",
        "      fs: sampling rate\n",
        "    Output:\n",
        "      features (channels x num_features): the features calculated on each channel for the window\n",
        "  \"\"\"\n",
        "  number_of_features = 6\n",
        "  channels = filtered_window.shape[1]\n",
        "  features = np.zeros((channels, number_of_features))\n",
        "\n",
        "  filter_1 = sig.firwin(50, [5, 15], fs = fs, pass_zero = 'bandpass')\n",
        "  filter_2 = sig.firwin(50, [20, 25], fs = fs, pass_zero = 'bandpass')\n",
        "  filter_3 = sig.firwin(50, [75, 115], fs = fs, pass_zero = 'bandpass')\n",
        "  filter_4 = sig.firwin(50, [125, 160], fs = fs, pass_zero = 'bandpass')\n",
        "  filter_5 = sig.firwin(50, [160, 175], fs = fs, pass_zero = 'bandpass')\n",
        "  filt_sig_1 = sig.filtfilt(filter_1, [1], filtered_window, padtype = None, axis = 1)\n",
        "  filt_sig_2 = sig.filtfilt(filter_2, [1], filtered_window, padtype = None, axis = 1)\n",
        "  filt_sig_3 = sig.filtfilt(filter_3, [1], filtered_window, padtype = None, axis = 1)\n",
        "  filt_sig_4 = sig.filtfilt(filter_4, [1], filtered_window, padtype = None, axis = 1)\n",
        "  filt_sig_5 = sig.filtfilt(filter_5, [1], filtered_window, padtype = None, axis = 1)\n",
        "\n",
        "  for i in range(channels):\n",
        "    signal = filtered_window[:,i]\n",
        "    ll = np.sum(np.absolute(np.ediff1d(signal)))\n",
        "    area = np.sum(np.abs(signal))\n",
        "    energy = np.sum(np.square(signal))\n",
        "    \n",
        "    mean = np.mean(signal)\n",
        "    val = []\n",
        "    for j in range(len(signal)-1):\n",
        "      above = (signal[j] - mean > 0) and (signal[j+1] - mean < 0)\n",
        "      below = (signal[j] - mean < 0) and (signal[j+1] - mean > 0)\n",
        "      val.append(above or below)\n",
        "    z_cross = np.sum(val)\n",
        "\n",
        "    filt_feat_1 = np.sum(np.square(filt_sig_1[i,:]))\n",
        "\n",
        "    filt_feat_2 = np.sum(np.square(filt_sig_2[i,:]))\n",
        "\n",
        "    filt_feat_3 = np.sum(np.square(filt_sig_3[i,:]))\n",
        "\n",
        "    filt_feat_4 = np.sum(np.square(filt_sig_4[i,:]))\n",
        "\n",
        "    filt_feat_5 = np.sum(np.square(filt_sig_5[i,:]))\n",
        "\n",
        "\n",
        "    #features[i,0] = ll\n",
        "    #features[i,1] = area\n",
        "    #features[i,2] = energy\n",
        "    #features[i,3] = z_cross\n",
        "    features[i,0] = mean\n",
        "    features[i,1] = filt_feat_1\n",
        "    features[i,2] = filt_feat_2\n",
        "    features[i,3] = filt_feat_3\n",
        "    features[i,4] = filt_feat_4\n",
        "    features[i,5] = filt_feat_5\n",
        "  return features\n",
        "\n",
        "'''\n",
        "def get_features(filtered_window, fs=1000):\n",
        "  \"\"\"\n",
        "    Write a function that calculates features for a given filtered window. \n",
        "    Feel free to use features you have seen before in this class, features that\n",
        "    have been used in the literature, or design your own!\n",
        "\n",
        "    Input: \n",
        "      filtered_window (window_samples x channels): the window of the filtered ecog signal \n",
        "      fs: sampling rate\n",
        "    Output:\n",
        "      features (channels x num_features): the features calculated on each channel for the window\n",
        "  \"\"\"\n",
        "  wind_samples, num_channels = filtered_window.shape\n",
        "  numFeatures = 6\n",
        "  features = np.zeros((num_channels, numFeatures))\n",
        "\n",
        "  #for i in range(num_channels):\n",
        "  features[:, 0] = AvgVoltageTimeDomain(filtered_window)\n",
        "  features[:, 1] = AvgFreqDomainMagnitude(filtered_window, [5, 15])\n",
        "  features[:, 2] = AvgFreqDomainMagnitude(filtered_window, [5, 75])\n",
        "  features[:, 3] = AvgFreqDomainMagnitude(filtered_window, [75, 115])\n",
        "  features[:, 4] = AvgFreqDomainMagnitude(filtered_window, [125, 160])\n",
        "  features[:, 5] = AvgFreqDomainMagnitude(filtered_window, [160, 175])\n",
        "\n",
        "  return features"
      ]
    },
    {
      "cell_type": "code",
      "execution_count": null,
      "metadata": {
        "id": "W4D9Wus217x_"
      },
      "outputs": [],
      "source": [
        "def get_windowed_feats(raw_ecog, fs, window_length, window_overlap):\n",
        "  \"\"\"\n",
        "    Write a function which processes data through the steps of filtering and\n",
        "    feature calculation and returns features. Points will be awarded for completing\n",
        "    each step appropriately (note that if one of the functions you call within this script\n",
        "    returns a bad output, you won't be double penalized). Note that you will need\n",
        "    to run the filter_data and get_features functions within this function. \n",
        "\n",
        "    Inputs:\n",
        "      raw_eeg (samples x channels): the raw signal\n",
        "      fs: the sampling rate (1000 for this dataset)\n",
        "      window_length: the window's length\n",
        "      window_overlap: the window's overlap\n",
        "    Output: \n",
        "      all_feats (num_windows x (channels x features)): the features for each channel for each time window\n",
        "        note that this is a 2D array. \n",
        "  \"\"\"\n",
        "  numWins = num_windows(raw_ecog, fs, window_length, window_overlap)\n",
        "  num_samples, num_channels = raw_ecog.shape\n",
        "  numFeatures = 6\n",
        "  all_feats = np.zeros((numWins, num_channels * numFeatures))\n",
        "\n",
        "  filtered = filter_data(raw_ecog)\n",
        "  #filtered = raw_ecog\n",
        "  for i in range(numWins):\n",
        "    window = filtered[(int)(i * window_overlap * fs) : (int)((i*window_overlap + window_length)*fs)]\n",
        "    all_feats[i] = get_features(window, fs=fs).flatten()\n",
        "\n",
        "  return all_feats\n"
      ]
    },
    {
      "cell_type": "code",
      "execution_count": null,
      "metadata": {
        "id": "JrvN1YdE2C5X"
      },
      "outputs": [],
      "source": [
        "R_test_path = Path('/content/drive/MyDrive/testRfunction.pkl')\n",
        "with open(R_test_path, 'rb') as f:\n",
        "  R_test = pickle.load(f)"
      ]
    },
    {
      "cell_type": "code",
      "execution_count": null,
      "metadata": {
        "id": "hUstCbBI2E3B"
      },
      "outputs": [],
      "source": [
        "'''\n",
        "def create_R_matrix(features, N_wind):\n",
        "  \"\"\" \n",
        "  Write a function to calculate the R matrix\n",
        "\n",
        "  Input:\n",
        "    features (samples (number of windows in the signal) x channels x features): \n",
        "      the features you calculated using get_windowed_feats\n",
        "    N_wind: number of windows to use in the R matrix\n",
        "\n",
        "  Output:\n",
        "    R (samples x (N_wind*channels*features))\n",
        "  \"\"\"\n",
        "  m = features.shape[0]\n",
        "  n = features.shape[1]\n",
        "  R = np.zeros((m, n*N_wind))\n",
        "  first_rows = features[0:N_wind-1, :]\n",
        "  features = np.insert(features, 0, first_rows, axis = 0)\n",
        "  preceding = N_wind-1\n",
        "  for i in range(0,m):\n",
        "    features_window = np.transpose(features[i:i+N_wind,:]).flatten()\n",
        "    R[i,:] = features_window\n",
        "  R = np.insert(R, 0, 1, axis = 1)\n",
        "  return R\n",
        "'''\n",
        "def create_R_matrix(features, N_wind):\n",
        "  \"\"\" \n",
        "  Write a function to calculate the R matrix\n",
        "\n",
        "  Input:\n",
        "    features (samples (number of windows in the signal) x channels x features): \n",
        "      the features you calculated using get_windowed_feats\n",
        "    N_wind: number of windows to use in the R matrix\n",
        "\n",
        "  Output:\n",
        "    R (samples x (N_wind*channels*features))\n",
        "  \"\"\"\n",
        "  num_samples, chanxfeat = features.shape\n",
        "  R = np.zeros((num_samples, N_wind*chanxfeat))\n",
        "  \n",
        "  # append first N-1 (2) rows to beginning of features\n",
        "  features = np.vstack((features[0:N_wind-1, :], features))\n",
        "\n",
        "  for i in range(num_samples):\n",
        "    R[i] = features[i:i+N_wind, :].flatten()\n",
        "\n",
        "  R = np.hstack((np.ones((num_samples,1)), R))\n",
        "  \n",
        "  return R"
      ]
    },
    {
      "cell_type": "code",
      "execution_count": null,
      "metadata": {
        "colab": {
          "base_uri": "https://localhost:8080/"
        },
        "id": "2moix68s5J16",
        "outputId": "aa4dab66-29da-4350-8da2-da1f2a5952d7"
      },
      "outputs": [
        {
          "output_type": "stream",
          "name": "stdout",
          "text": [
            "25.46678519830894\n"
          ]
        }
      ],
      "source": [
        "print(np.mean(create_R_matrix(R_test, 3)))"
      ]
    },
    {
      "cell_type": "code",
      "execution_count": null,
      "metadata": {
        "id": "gixH9twA5MYb"
      },
      "outputs": [],
      "source": [
        "window_length = 400\n",
        "window_displacement = 25\n",
        "\n",
        "start_index = int(1/2*window_length)\n",
        "\n",
        "down_sampled_glove_train_1 = y_train1[start_index::window_displacement]\n",
        "\n",
        "down_sampled_glove_test_1 = y_test1[start_index::window_displacement]\n",
        "\n",
        "down_sampled_glove_train_2 = y_train2[start_index::window_displacement]\n",
        "down_sampled_glove_test_2 = y_test2[start_index::window_displacement]\n",
        "\n",
        "down_sampled_glove_train_3 = y_train3[start_index::window_displacement]\n",
        "down_sampled_glove_test_3 = y_test3[start_index::window_displacement]\n",
        "\n",
        "'''\n",
        "for i in range(len(down_sampled_glove_train_1)-1):\n",
        "  if (len(y_train1) - (start_index + i*window_displacement) <= window_length):\n",
        "    down_sampled_glove_train_1 = down_sampled_glove_train_1[0:i]\n",
        "    down_sampled_glove_test_1 = down_sampled_glove_test_1[0:i]\n",
        "    down_sampled_glove_train_2 = down_sampled_glove_train_2[0:i]\n",
        "    down_sampled_glove_test_2 = down_sampled_glove_test_2[0:i]\n",
        "    down_sampled_glove_train_3 = down_sampled_glove_train_3[0:i]\n",
        "    down_sampled_glove_test_3 = down_sampled_glove_test_3[0:i]\n",
        "    break\n",
        "'''\n",
        "cutoff = len(down_sampled_glove_train_1) - num_windows(y_train1, 1000, window_length/1000, window_displacement/1000)\n",
        "if (cutoff != 0):\n",
        "  down_sampled_glove_train_1 = down_sampled_glove_train_1[0:-cutoff]\n",
        "  down_sampled_glove_test_1 = down_sampled_glove_test_1[0:-cutoff]\n",
        "  down_sampled_glove_train_2 = down_sampled_glove_train_2[0:-cutoff]\n",
        "  down_sampled_glove_test_2 = down_sampled_glove_test_2[0:-cutoff]\n",
        "  down_sampled_glove_train_3 = down_sampled_glove_train_3[0:-cutoff]\n",
        "  down_sampled_glove_test_3 = down_sampled_glove_test_3[0:-cutoff]\n",
        "\n",
        "\n",
        "\n",
        "feats_1 = get_windowed_feats(X_train1, 1000, window_length/1000, window_displacement/1000)\n",
        "feats_2 = get_windowed_feats(X_train2, 1000, window_length/1000, window_displacement/1000)\n",
        "feats_3 = get_windowed_feats(X_train3, 1000, window_length/1000, window_displacement/1000)\n",
        "\n",
        "n = 8\n",
        "R_1 = create_R_matrix(feats_1, n)\n",
        "R_2 = create_R_matrix(feats_2, n)\n",
        "R_3 = create_R_matrix(feats_3, n)\n",
        "\n",
        "\n",
        "f_1 = np.linalg.pinv(R_1.T@R_1)@(R_1.T@down_sampled_glove_train_1)\n",
        "f_2 = np.linalg.pinv(R_2.T@R_2)@(R_2.T@down_sampled_glove_train_2)\n",
        "f_3 = np.linalg.pinv(R_3.T@R_3)@(R_3.T@down_sampled_glove_train_3)\n",
        "\n",
        "feats_test_1 = get_windowed_feats(X_test1, 1000, window_length/1000, window_displacement/1000)\n",
        "R_1_test = create_R_matrix(feats_test_1, n)\n",
        "\n",
        "feats_test_2 = get_windowed_feats(X_test2, 1000, window_length/1000, window_displacement/1000)\n",
        "R_2_test = create_R_matrix(feats_test_2, n)\n",
        "\n",
        "feats_test_3 = get_windowed_feats(X_test3, 1000, window_length/1000, window_displacement/1000)\n",
        "R_3_test = create_R_matrix(feats_test_3, n)"
      ]
    },
    {
      "cell_type": "code",
      "execution_count": null,
      "metadata": {
        "colab": {
          "base_uri": "https://localhost:8080/"
        },
        "id": "7rX_sucx61xG",
        "outputId": "8df74f81-e49e-4934-c065-b619213f382e"
      },
      "outputs": [
        {
          "output_type": "stream",
          "name": "stdout",
          "text": [
            "Correlation Scores for the interpolated test finger angle predictions using the optimal linear decoder model. The rows represent fingers 1-3 and 5, and the columns represent subjects 1-3.\n",
            "[[ 0.46381992  0.32992841  0.47115731]\n",
            " [ 0.50831934  0.27994763  0.41726258]\n",
            " [ 0.09341172  0.1293929   0.55356225]\n",
            " [-0.07696221  0.18840562  0.340644  ]]\n",
            "The mean correlation score across all fingers and subjects for the optimal linear decoder model:\n",
            "0.30824078914592784\n"
          ]
        }
      ],
      "source": [
        "pred_1 = R_1_test @ f_1\n",
        "\n",
        "pred_2 = R_2_test @ f_2\n",
        "\n",
        "pred_3 = R_3_test @ f_3\n",
        "\n",
        "correlation_scores_interpolated = np.zeros((5,3))\n",
        "\n",
        "ending_index = len(y_test1) - np.arange(len(y_test1))[start_index::window_displacement][0:-cutoff][-1]\n",
        "\n",
        "lin_pred_1 = np.zeros((len(y_test1),5))\n",
        "lin_pred_2 = np.zeros((len(y_test1),5))\n",
        "lin_pred_3 = np.zeros((len(y_test1),5))\n",
        "\n",
        "for i in range(5):\n",
        "  subject_1_cs = CubicSpline(np.arange(len(y_test1))[start_index::window_displacement][0:-cutoff], pred_1[:,i])\n",
        "  subject_1_interpolated = subject_1_cs(np.arange(len(y_test1))[start_index:-ending_index])\n",
        "  subject_1_interpolated = np.insert(subject_1_interpolated, 0, subject_1_interpolated[0]*np.ones(start_index))\n",
        "  subject_1_interpolated = np.insert(subject_1_interpolated, -1, subject_1_interpolated[-1]*np.ones(ending_index))\n",
        "  lin_pred_1[:,i] = subject_1_interpolated\n",
        "\n",
        "  subject_2_cs = CubicSpline(np.arange(len(y_test2))[start_index::window_displacement][0:-cutoff], pred_2[:,i])\n",
        "  subject_2_interpolated = subject_2_cs(np.arange(len(y_test2))[start_index:-ending_index])\n",
        "  subject_2_interpolated = np.insert(subject_2_interpolated, 0, subject_2_interpolated[0]*np.ones(start_index))\n",
        "  subject_2_interpolated = np.insert(subject_2_interpolated, -1, subject_2_interpolated[-1]*np.ones(ending_index))\n",
        "  lin_pred_2[:,i] = subject_2_interpolated\n",
        "\n",
        "  subject_3_cs = CubicSpline(np.arange(len(y_test3))[start_index::window_displacement][0:-cutoff], pred_3[:,i])\n",
        "  subject_3_interpolated = subject_3_cs(np.arange(len(y_test3))[start_index:-ending_index])\n",
        "  subject_3_interpolated = np.insert(subject_3_interpolated, 0, subject_3_interpolated[0]*np.ones(start_index))\n",
        "  subject_3_interpolated = np.insert(subject_3_interpolated, -1, subject_3_interpolated[-1]*np.ones(ending_index))\n",
        "  lin_pred_3[:,i] = subject_3_interpolated\n",
        "\n",
        "  correlation_scores_interpolated[i,0] = pearsonr(y_test1[:,i], subject_1_interpolated).statistic\n",
        "  correlation_scores_interpolated[i,1] = pearsonr(y_test2[:,i], subject_2_interpolated).statistic\n",
        "  correlation_scores_interpolated[i,2] = pearsonr(y_test3[:,i], subject_3_interpolated).statistic\n",
        "\n",
        "\n",
        "correlation_scores = np.zeros((5,3))\n",
        "\n",
        "for i in range(5):\n",
        "  correlation_scores[i,0] = pearsonr(down_sampled_glove_test_1[:,i], pred_1[:,i]).statistic\n",
        "  correlation_scores[i,1] = pearsonr(down_sampled_glove_test_2[:,i], pred_2[:,i]).statistic\n",
        "  correlation_scores[i,2] = pearsonr(down_sampled_glove_test_3[:,i], pred_3[:,i]).statistic\n",
        "\n",
        "#correlation_scores = np.delete(correlation_scores, 3, 0)\n",
        "\n",
        "#correlation_scores_interpolated = np.delete(correlation_scores_interpolated, 3, 0)\n",
        "\n",
        "\n",
        "\n",
        "#print('Correlation Scores for the test finger angle predictions using the optimal \\\n",
        "#linear decoder model. The rows represent fingers 1-3 and 5, and the columns represent \\\n",
        "#subjects 1-3.')\n",
        "#print(correlation_scores)\n",
        "#print('The mean correlation score across fingers (except 4th finger) and subjects for the optimal linear decoder model:')\n",
        "#print(np.mean(correlation_scores))\n",
        "\n",
        "\n",
        "print('Correlation Scores for the interpolated test finger angle predictions using the optimal \\\n",
        "linear decoder model. The rows represent fingers 1-3 and 5, and the columns represent \\\n",
        "subjects 1-3.')\n",
        "print(np.delete(correlation_scores_interpolated, 3, 0))\n",
        "print('The mean correlation score across all fingers and subjects for the optimal linear decoder model:')\n",
        "print(np.mean(np.delete(correlation_scores_interpolated, 3, 0)))\n",
        "\n",
        "#print(np.mean(correlation_scores_interpolated, axis=0))\n"
      ]
    },
    {
      "cell_type": "code",
      "execution_count": null,
      "metadata": {
        "id": "4SFAixu5bhfk"
      },
      "outputs": [],
      "source": [
        "leader_feats_test_1 = get_windowed_feats(leader_x1, 1000, window_length/1000, window_displacement/1000)\n",
        "leader_R_1_test = create_R_matrix(leader_feats_test_1, n)\n",
        "\n",
        "leader_feats_test_2 = get_windowed_feats(leader_x2, 1000, window_length/1000, window_displacement/1000)\n",
        "leader_R_2_test = create_R_matrix(leader_feats_test_2, n)\n",
        "\n",
        "leader_feats_test_3 = get_windowed_feats(leader_x3, 1000, window_length/1000, window_displacement/1000)\n",
        "leader_R_3_test = create_R_matrix(leader_feats_test_3, n)\n",
        "\n",
        "leader_lin_pred_1 = leader_R_1_test @ f_1\n",
        "\n",
        "leader_lin_pred_2 = leader_R_2_test @ f_2\n",
        "\n",
        "leader_lin_pred_3 = leader_R_3_test @ f_3\n"
      ]
    },
    {
      "cell_type": "code",
      "execution_count": null,
      "metadata": {
        "id": "pFjHNpNOd6pQ"
      },
      "outputs": [],
      "source": [
        "leader_lin_subject_1_interpolated = np.zeros((147500,5))\n",
        "leader_lin_subject_2_interpolated = np.zeros((147500,5))\n",
        "leader_lin_subject_3_interpolated = np.zeros((147500,5))\n",
        "\n",
        "ending_index = leader_x1.shape[0] - np.arange(leader_x1.shape[0])[start_index::window_displacement][0:-cutoff][-1]\n",
        "\n",
        "for i in range(5):\n",
        "  subject_1_cs = CubicSpline(np.arange(leader_x1.shape[0])[start_index::window_displacement][0:-cutoff], leader_lin_pred_1[:,i])\n",
        "  subject_1_interpolated = subject_1_cs(np.arange(leader_x1.shape[0])[start_index:-ending_index])\n",
        "  subject_1_interpolated = np.insert(subject_1_interpolated, 0, subject_1_interpolated[0]*np.ones(start_index))\n",
        "  subject_1_interpolated = np.insert(subject_1_interpolated, -1, subject_1_interpolated[-1]*np.ones(ending_index))\n",
        "  leader_lin_subject_1_interpolated[:,i] = subject_1_interpolated\n",
        "\n",
        "  subject_2_cs = CubicSpline(np.arange(leader_x2.shape[0])[start_index::window_displacement][0:-cutoff], leader_lin_pred_2[:,i])\n",
        "  subject_2_interpolated = subject_2_cs(np.arange(leader_x2.shape[0])[start_index:-ending_index])\n",
        "  subject_2_interpolated = np.insert(subject_2_interpolated, 0, subject_2_interpolated[0]*np.ones(start_index))\n",
        "  subject_2_interpolated = np.insert(subject_2_interpolated, -1, subject_2_interpolated[-1]*np.ones(ending_index))\n",
        "  leader_lin_subject_2_interpolated[:,i] = subject_2_interpolated\n",
        "\n",
        "  subject_3_cs = CubicSpline(np.arange(leader_x3.shape[0])[start_index::window_displacement][0:-cutoff], leader_lin_pred_3[:,i])\n",
        "  subject_3_interpolated = subject_3_cs(np.arange(leader_x3.shape[0])[start_index:-ending_index])\n",
        "  subject_3_interpolated = np.insert(subject_3_interpolated, 0, subject_3_interpolated[0]*np.ones(start_index))\n",
        "  subject_3_interpolated = np.insert(subject_3_interpolated, -1, subject_3_interpolated[-1]*np.ones(ending_index))\n",
        "  leader_lin_subject_3_interpolated[:,i] = subject_3_interpolated"
      ]
    },
    {
      "cell_type": "code",
      "source": [
        "'''\n",
        "#SVR Model\n",
        "from sklearn.svm import SVR\n",
        "\n",
        "svr_1 = SVR(kernel = 'rbf', epsilon= 0.5, C = 3)\n",
        "svr_2 = SVR(kernel = 'rbf', epsilon = 0.5, C = 1)\n",
        "svr_3 = SVR(kernel = 'rbf', epsilon = 0.7, C = 1)\n",
        "\n",
        "svr_pred_1 = np.zeros((len(down_sampled_glove_test_1[:,1]),5))\n",
        "svr_pred_2 = np.zeros((len(down_sampled_glove_test_1[:,1]),5))\n",
        "svr_pred_3 = np.zeros((len(down_sampled_glove_test_1[:,1]),5))\n",
        "\n",
        "leader_svr_pred_1 = np.zeros((leader_feats_test_1.shape[0],5))\n",
        "leader_svr_pred_2 = np.zeros((leader_feats_test_2.shape[0],5))\n",
        "leader_svr_pred_3 = np.zeros((leader_feats_test_3.shape[0],5))\n",
        "\n",
        "for i in range(5):\n",
        "  svr_1.fit(feats_1,down_sampled_glove_train_1[:,i])\n",
        "  svr_train_score = svr_1.score(feats_1,down_sampled_glove_train_1[:,i])\n",
        "  svr_predict = svr_1.predict(feats_test_1)\n",
        "  svr_pred_1[:,i] = svr_predict\n",
        "\n",
        "  leader_svr_predict = svr_1.predict(leader_feats_test_1)\n",
        "  leader_svr_pred_1[:,i] = leader_svr_predict\n",
        "\n",
        "for i in range(5):\n",
        "  svr_2.fit(feats_2,down_sampled_glove_train_2[:,i])\n",
        "  svr_train_score = svr_2.score(feats_2,down_sampled_glove_train_2[:,i])\n",
        "  svr_predict = svr_2.predict(feats_test_2)\n",
        "  svr_pred_2[:,i] = svr_predict\n",
        "\n",
        "  leader_svr_predict = svr_2.predict(leader_feats_test_2)\n",
        "  leader_svr_pred_2[:,i] = leader_svr_predict\n",
        "\n",
        "for i in range(5):\n",
        "  svr_3.fit(feats_3,down_sampled_glove_train_3[:,i])\n",
        "  svr_train_score = svr_3.score(feats_3,down_sampled_glove_train_3[:,i])\n",
        "  svr_predict = svr_3.predict(feats_test_3)\n",
        "  svr_pred_3[:,i] = svr_predict\n",
        "\n",
        "  leader_svr_predict = svr_3.predict(leader_feats_test_3)\n",
        "  leader_svr_pred_3[:,i] = leader_svr_predict\n",
        "\n",
        "\n",
        "svr_correlation_scores_interpolated = np.zeros((5,3))\n",
        "svr_subject_1_interpolated = np.zeros((len(y_test1),5))\n",
        "svr_subject_2_interpolated = np.zeros((len(y_test2),5))\n",
        "svr_subject_3_interpolated = np.zeros((len(y_test3),5))\n",
        "\n",
        "# Test SVR Interpolation\n",
        "for i in range(5):\n",
        "  subject_1_cs = CubicSpline(np.arange(len(y_test1))[start_index::window_displacement][0:-cutoff], svr_pred_1[:,i])\n",
        "  subject_1_interpolated = subject_1_cs(np.arange(len(y_test1))[start_index:-ending_index])\n",
        "  subject_1_interpolated = np.insert(subject_1_interpolated, 0, subject_1_interpolated[0]*np.ones(start_index))\n",
        "  subject_1_interpolated = np.insert(subject_1_interpolated, -1, subject_1_interpolated[-1]*np.ones(ending_index))\n",
        "  svr_subject_1_interpolated[:,i] = subject_1_interpolated\n",
        "\n",
        "  subject_2_cs = CubicSpline(np.arange(len(y_test2))[start_index::window_displacement][0:-cutoff], svr_pred_2[:,i])\n",
        "  subject_2_interpolated = subject_2_cs(np.arange(len(y_test2))[start_index:-ending_index])\n",
        "  subject_2_interpolated = np.insert(subject_2_interpolated, 0, subject_2_interpolated[0]*np.ones(start_index))\n",
        "  subject_2_interpolated = np.insert(subject_2_interpolated, -1, subject_2_interpolated[-1]*np.ones(ending_index))\n",
        "  svr_subject_2_interpolated[:,i] = subject_2_interpolated\n",
        "\n",
        "  subject_3_cs = CubicSpline(np.arange(len(y_test3))[start_index::window_displacement][0:-cutoff], svr_pred_3[:,i])\n",
        "  subject_3_interpolated = subject_3_cs(np.arange(len(y_test3))[start_index:-ending_index])\n",
        "  subject_3_interpolated = np.insert(subject_3_interpolated, 0, subject_3_interpolated[0]*np.ones(start_index))\n",
        "  subject_3_interpolated = np.insert(subject_3_interpolated, -1, subject_3_interpolated[-1]*np.ones(ending_index))\n",
        "  svr_subject_3_interpolated[:,i] = subject_3_interpolated\n",
        "\n",
        "  svr_correlation_scores_interpolated[i,0] = pearsonr(y_test1[:,i], subject_1_interpolated).statistic\n",
        "  svr_correlation_scores_interpolated[i,1] = pearsonr(y_test2[:,i], subject_2_interpolated).statistic\n",
        "  svr_correlation_scores_interpolated[i,2] = pearsonr(y_test3[:,i], subject_3_interpolated).statistic\n",
        "\n",
        "# Leader SVR Interpolation\n",
        "leader_svr_pred_1_interpolated = np.zeros((147500,5))\n",
        "leader_svr_pred_2_interpolated = np.zeros((147500,5))\n",
        "leader_svr_pred_3_interpolated = np.zeros((147500,5))\n",
        "\n",
        "for i in range(5):\n",
        "  subject_1_cs = CubicSpline(np.arange(leader_x1.shape[0])[start_index::window_displacement][0:-cutoff], leader_svr_pred_1[:,i])\n",
        "  subject_1_interpolated = subject_1_cs(np.arange(leader_x1.shape[0])[start_index:-ending_index])\n",
        "  subject_1_interpolated = np.insert(subject_1_interpolated, 0, subject_1_interpolated[0]*np.ones(start_index))\n",
        "  subject_1_interpolated = np.insert(subject_1_interpolated, -1, subject_1_interpolated[-1]*np.ones(ending_index))\n",
        "  leader_svr_pred_1_interpolated[:,i] = subject_1_interpolated\n",
        "\n",
        "  subject_2_cs = CubicSpline(np.arange(leader_x2.shape[0])[start_index::window_displacement][0:-cutoff], leader_svr_pred_2[:,i])\n",
        "  subject_2_interpolated = subject_2_cs(np.arange(leader_x2.shape[0])[start_index:-ending_index])\n",
        "  subject_2_interpolated = np.insert(subject_2_interpolated, 0, subject_2_interpolated[0]*np.ones(start_index))\n",
        "  subject_2_interpolated = np.insert(subject_2_interpolated, -1, subject_2_interpolated[-1]*np.ones(ending_index))\n",
        "  leader_svr_pred_2_interpolated[:,i] = subject_2_interpolated\n",
        "\n",
        "  subject_3_cs = CubicSpline(np.arange(leader_x3.shape[0])[start_index::window_displacement][0:-cutoff], leader_svr_pred_3[:,i])\n",
        "  subject_3_interpolated = subject_3_cs(np.arange(leader_x3.shape[0])[start_index:-ending_index])\n",
        "  subject_3_interpolated = np.insert(subject_3_interpolated, 0, subject_3_interpolated[0]*np.ones(start_index))\n",
        "  subject_3_interpolated = np.insert(subject_3_interpolated, -1, subject_3_interpolated[-1]*np.ones(ending_index))\n",
        "  leader_svr_pred_3_interpolated[:,i] = subject_3_interpolated\n",
        "'''"
      ],
      "metadata": {
        "id": "8DfOAckiQRwG",
        "colab": {
          "base_uri": "https://localhost:8080/",
          "height": 157
        },
        "outputId": "a23398a9-3400-437a-dabe-a75856aa6c1f"
      },
      "execution_count": null,
      "outputs": [
        {
          "output_type": "execute_result",
          "data": {
            "text/plain": [
              "\"\\n#SVR Model\\nfrom sklearn.svm import SVR\\n\\nsvr_1 = SVR(kernel = 'rbf', epsilon= 0.5, C = 3)\\nsvr_2 = SVR(kernel = 'rbf', epsilon = 0.5, C = 1)\\nsvr_3 = SVR(kernel = 'rbf', epsilon = 0.7, C = 1)\\n\\nsvr_pred_1 = np.zeros((len(down_sampled_glove_test_1[:,1]),5))\\nsvr_pred_2 = np.zeros((len(down_sampled_glove_test_1[:,1]),5))\\nsvr_pred_3 = np.zeros((len(down_sampled_glove_test_1[:,1]),5))\\n\\nleader_svr_pred_1 = np.zeros((leader_feats_test_1.shape[0],5))\\nleader_svr_pred_2 = np.zeros((leader_feats_test_2.shape[0],5))\\nleader_svr_pred_3 = np.zeros((leader_feats_test_3.shape[0],5))\\n\\nfor i in range(5):\\n  svr_1.fit(feats_1,down_sampled_glove_train_1[:,i])\\n  svr_train_score = svr_1.score(feats_1,down_sampled_glove_train_1[:,i])\\n  svr_predict = svr_1.predict(feats_test_1)\\n  svr_pred_1[:,i] = svr_predict\\n\\n  leader_svr_predict = svr_1.predict(leader_feats_test_1)\\n  leader_svr_pred_1[:,i] = leader_svr_predict\\n\\nfor i in range(5):\\n  svr_2.fit(feats_2,down_sampled_glove_train_2[:,i])\\n  svr_train_score = svr_2.score(feats_2,down_sampled_glove_train_2[:,i])\\n  svr_predict = svr_2.predict(feats_test_2)\\n  svr_pred_2[:,i] = svr_predict\\n\\n  leader_svr_predict = svr_2.predict(leader_feats_test_2)\\n  leader_svr_pred_2[:,i] = leader_svr_predict\\n\\nfor i in range(5):\\n  svr_3.fit(feats_3,down_sampled_glove_train_3[:,i])\\n  svr_train_score = svr_3.score(feats_3,down_sampled_glove_train_3[:,i])\\n  svr_predict = svr_3.predict(feats_test_3)\\n  svr_pred_3[:,i] = svr_predict\\n\\n  leader_svr_predict = svr_3.predict(leader_feats_test_3)\\n  leader_svr_pred_3[:,i] = leader_svr_predict\\n\\n\\nsvr_correlation_scores_interpolated = np.zeros((5,3))\\nsvr_subject_1_interpolated = np.zeros((len(y_test1),5))\\nsvr_subject_2_interpolated = np.zeros((len(y_test2),5))\\nsvr_subject_3_interpolated = np.zeros((len(y_test3),5))\\n\\n# Test SVR Interpolation\\nfor i in range(5):\\n  subject_1_cs = CubicSpline(np.arange(len(y_test1))[start_index::window_displacement][0:-cutoff], svr_pred_1[:,i])\\n  subject_1_interpolated = subject_1_cs(np.arange(len(y_test1))[start_index:-ending_index])\\n  subject_1_interpolated = np.insert(subject_1_interpolated, 0, subject_1_interpolated[0]*np.ones(start_index))\\n  subject_1_interpolated = np.insert(subject_1_interpolated, -1, subject_1_interpolated[-1]*np.ones(ending_index))\\n  svr_subject_1_interpolated[:,i] = subject_1_interpolated\\n\\n  subject_2_cs = CubicSpline(np.arange(len(y_test2))[start_index::window_displacement][0:-cutoff], svr_pred_2[:,i])\\n  subject_2_interpolated = subject_2_cs(np.arange(len(y_test2))[start_index:-ending_index])\\n  subject_2_interpolated = np.insert(subject_2_interpolated, 0, subject_2_interpolated[0]*np.ones(start_index))\\n  subject_2_interpolated = np.insert(subject_2_interpolated, -1, subject_2_interpolated[-1]*np.ones(ending_index))\\n  svr_subject_2_interpolated[:,i] = subject_2_interpolated\\n\\n  subject_3_cs = CubicSpline(np.arange(len(y_test3))[start_index::window_displacement][0:-cutoff], svr_pred_3[:,i])\\n  subject_3_interpolated = subject_3_cs(np.arange(len(y_test3))[start_index:-ending_index])\\n  subject_3_interpolated = np.insert(subject_3_interpolated, 0, subject_3_interpolated[0]*np.ones(start_index))\\n  subject_3_interpolated = np.insert(subject_3_interpolated, -1, subject_3_interpolated[-1]*np.ones(ending_index))\\n  svr_subject_3_interpolated[:,i] = subject_3_interpolated\\n\\n  svr_correlation_scores_interpolated[i,0] = pearsonr(y_test1[:,i], subject_1_interpolated).statistic\\n  svr_correlation_scores_interpolated[i,1] = pearsonr(y_test2[:,i], subject_2_interpolated).statistic\\n  svr_correlation_scores_interpolated[i,2] = pearsonr(y_test3[:,i], subject_3_interpolated).statistic\\n\\n# Leader SVR Interpolation\\nleader_svr_pred_1_interpolated = np.zeros((147500,5))\\nleader_svr_pred_2_interpolated = np.zeros((147500,5))\\nleader_svr_pred_3_interpolated = np.zeros((147500,5))\\n\\nfor i in range(5):\\n  subject_1_cs = CubicSpline(np.arange(leader_x1.shape[0])[start_index::window_displacement][0:-cutoff], leader_svr_pred_1[:,i])\\n  subject_1_interpolated = subject_1_cs(np.arange(leader_x1.shape[0])[start_index:-ending_index])\\n  subject_1_interpolated = np.insert(subject_1_interpolated, 0, subject_1_interpolated[0]*np.ones(start_index))\\n  subject_1_interpolated = np.insert(subject_1_interpolated, -1, subject_1_interpolated[-1]*np.ones(ending_index))\\n  leader_svr_pred_1_interpolated[:,i] = subject_1_interpolated\\n\\n  subject_2_cs = CubicSpline(np.arange(leader_x2.shape[0])[start_index::window_displacement][0:-cutoff], leader_svr_pred_2[:,i])\\n  subject_2_interpolated = subject_2_cs(np.arange(leader_x2.shape[0])[start_index:-ending_index])\\n  subject_2_interpolated = np.insert(subject_2_interpolated, 0, subject_2_interpolated[0]*np.ones(start_index))\\n  subject_2_interpolated = np.insert(subject_2_interpolated, -1, subject_2_interpolated[-1]*np.ones(ending_index))\\n  leader_svr_pred_2_interpolated[:,i] = subject_2_interpolated\\n\\n  subject_3_cs = CubicSpline(np.arange(leader_x3.shape[0])[start_index::window_displacement][0:-cutoff], leader_svr_pred_3[:,i])\\n  subject_3_interpolated = subject_3_cs(np.arange(leader_x3.shape[0])[start_index:-ending_index])\\n  subject_3_interpolated = np.insert(subject_3_interpolated, 0, subject_3_interpolated[0]*np.ones(start_index))\\n  subject_3_interpolated = np.insert(subject_3_interpolated, -1, subject_3_interpolated[-1]*np.ones(ending_index))\\n  leader_svr_pred_3_interpolated[:,i] = subject_3_interpolated\\n\""
            ],
            "application/vnd.google.colaboratory.intrinsic+json": {
              "type": "string"
            }
          },
          "metadata": {},
          "execution_count": 173
        }
      ]
    },
    {
      "cell_type": "code",
      "source": [
        "'''\n",
        "#svr_correlation_scores_interpolated = np.delete(svr_correlation_scores_interpolated, 3, 0)\n",
        "print('Correlation Scores for the test finger angle predictions using the SVR \\\n",
        "model. The rows represent fingers 1-3, 5 and the columns represent \\\n",
        "subjects 1-3.')\n",
        "print(np.delete(svr_correlation_scores_interpolated, 3, 0))\n",
        "#print(np.mean(svr_correlation_scores_interpolated, axis=0))\n",
        "print('The mean correlation score across fingers and subjects for the SVR model:')\n",
        "print(np.mean(np.delete(svr_correlation_scores_interpolated, 3, 0)))\n",
        "'''"
      ],
      "metadata": {
        "colab": {
          "base_uri": "https://localhost:8080/",
          "height": 87
        },
        "id": "OsPj1aFJYfAU",
        "outputId": "bd64320d-3d1b-4ea6-b680-d85b1952bb13"
      },
      "execution_count": null,
      "outputs": [
        {
          "output_type": "execute_result",
          "data": {
            "text/plain": [
              "\"\\n#svr_correlation_scores_interpolated = np.delete(svr_correlation_scores_interpolated, 3, 0)\\nprint('Correlation Scores for the test finger angle predictions using the SVR model. The rows represent fingers 1-3, 5 and the columns represent subjects 1-3.')\\nprint(np.delete(svr_correlation_scores_interpolated, 3, 0))\\n#print(np.mean(svr_correlation_scores_interpolated, axis=0))\\nprint('The mean correlation score across fingers and subjects for the SVR model:')\\nprint(np.mean(np.delete(svr_correlation_scores_interpolated, 3, 0)))\\n\""
            ],
            "application/vnd.google.colaboratory.intrinsic+json": {
              "type": "string"
            }
          },
          "metadata": {},
          "execution_count": 174
        }
      ]
    },
    {
      "cell_type": "code",
      "source": [
        "#Lasso Model\n",
        "\n",
        "# lasso_1 = LassoCV(cv = 8,random_state = 3)\n",
        "# lasso_2 = LassoCV(cv = 8,random_state = 3)\n",
        "# lasso_3 = LassoCV(cv = 8,random_state = 3)\n",
        "\n",
        "lasso_1 = Lasso(alpha = 10)\n",
        "lasso_2 = Lasso(alpha = 10)\n",
        "lasso_3 = Lasso(alpha = 10)\n",
        "\n",
        "lasso_pred_1 = np.zeros((len(down_sampled_glove_test_1[:,1]),5))\n",
        "lasso_pred_2 = np.zeros((len(down_sampled_glove_test_1[:,1]),5))\n",
        "lasso_pred_3 = np.zeros((len(down_sampled_glove_test_1[:,1]),5))\n",
        "\n",
        "leader_lasso_pred_1 = np.zeros((leader_feats_test_1.shape[0],5))\n",
        "leader_lasso_pred_2 = np.zeros((leader_feats_test_2.shape[0],5))\n",
        "leader_lasso_pred_3 = np.zeros((leader_feats_test_3.shape[0],5))\n",
        "\n",
        "lasso_1_coeff = []\n",
        "lasso_2_coeff = []\n",
        "lasso_3_coeff = []\n",
        "\n",
        "for i in range(5):\n",
        "  lasso_1.fit(feats_1,down_sampled_glove_train_1[:,i])\n",
        "  lasso_train_score = lasso_1.score(feats_1,down_sampled_glove_train_1[:,i])\n",
        "  lasso_predict = lasso_1.predict(feats_test_1)\n",
        "  lasso_pred_1[:,i] = lasso_predict\n",
        "  lasso_coeff = lasso_1.coef_\n",
        "  lasso_1_coeff.append(lasso_coeff)\n",
        "\n",
        "  leader_lasso_predict = lasso_1.predict(leader_feats_test_1)\n",
        "  leader_lasso_pred_1[:,i] = leader_lasso_predict\n",
        "\n",
        "for i in range(5):\n",
        "  lasso_2.fit(feats_2,down_sampled_glove_train_2[:,i])\n",
        "  lasso_train_score = lasso_2.score(feats_2,down_sampled_glove_train_2[:,i])\n",
        "  lasso_predict = lasso_2.predict(feats_test_2)\n",
        "  lasso_pred_2[:,i] = lasso_predict\n",
        "\n",
        "  lasso_coeff = lasso_2.coef_\n",
        "  lasso_2_coeff.append(lasso_coeff)\n",
        "\n",
        "  leader_lasso_predict = lasso_2.predict(leader_feats_test_2)\n",
        "  leader_lasso_pred_2[:,i] = leader_lasso_predict\n",
        "\n",
        "for i in range(5):\n",
        "  lasso_3.fit(feats_3,down_sampled_glove_train_3[:,i])\n",
        "  lasso_train_score = lasso_3.score(feats_3,down_sampled_glove_train_3[:,i])\n",
        "  lasso_predict = lasso_3.predict(feats_test_3)\n",
        "  lasso_pred_3[:,i] = lasso_predict\n",
        "\n",
        "  lasso_coeff = lasso_3.coef_\n",
        "  lasso_3_coeff.append(lasso_coeff)\n",
        "\n",
        "  leader_lasso_predict = lasso_3.predict(leader_feats_test_3)\n",
        "  leader_lasso_pred_3[:,i] = leader_lasso_predict\n",
        "\n",
        "\n",
        "lasso_correlation_scores_interpolated = np.zeros((5,3))\n",
        "lasso_subject_1_interpolated = np.zeros((len(y_test1),5))\n",
        "lasso_subject_2_interpolated = np.zeros((len(y_test2),5))\n",
        "lasso_subject_3_interpolated = np.zeros((len(y_test3),5))\n",
        "\n",
        "# Test Lasso Interpolation\n",
        "for i in range(5):\n",
        "  subject_1_cs = CubicSpline(np.arange(len(y_test1))[start_index::window_displacement][0:-cutoff], lasso_pred_1[:,i])\n",
        "  subject_1_interpolated = subject_1_cs(np.arange(len(y_test1))[start_index:-ending_index])\n",
        "  subject_1_interpolated = np.insert(subject_1_interpolated, 0, subject_1_interpolated[0]*np.ones(start_index))\n",
        "  subject_1_interpolated = np.insert(subject_1_interpolated, -1, subject_1_interpolated[-1]*np.ones(ending_index))\n",
        "  lasso_subject_1_interpolated[:,i] = subject_1_interpolated\n",
        "\n",
        "  subject_2_cs = CubicSpline(np.arange(len(y_test2))[start_index::window_displacement][0:-cutoff], lasso_pred_2[:,i])\n",
        "  subject_2_interpolated = subject_2_cs(np.arange(len(y_test2))[start_index:-ending_index])\n",
        "  subject_2_interpolated = np.insert(subject_2_interpolated, 0, subject_2_interpolated[0]*np.ones(start_index))\n",
        "  subject_2_interpolated = np.insert(subject_2_interpolated, -1, subject_2_interpolated[-1]*np.ones(ending_index))\n",
        "  lasso_subject_2_interpolated[:,i] = subject_2_interpolated\n",
        "\n",
        "  subject_3_cs = CubicSpline(np.arange(len(y_test3))[start_index::window_displacement][0:-cutoff], lasso_pred_3[:,i])\n",
        "  subject_3_interpolated = subject_3_cs(np.arange(len(y_test3))[start_index:-ending_index])\n",
        "  subject_3_interpolated = np.insert(subject_3_interpolated, 0, subject_3_interpolated[0]*np.ones(start_index))\n",
        "  subject_3_interpolated = np.insert(subject_3_interpolated, -1, subject_3_interpolated[-1]*np.ones(ending_index))\n",
        "  lasso_subject_3_interpolated[:,i] = subject_3_interpolated\n",
        "\n",
        "  lasso_correlation_scores_interpolated[i,0] = pearsonr(y_test1[:,i], subject_1_interpolated).statistic\n",
        "  lasso_correlation_scores_interpolated[i,1] = pearsonr(y_test2[:,i], subject_2_interpolated).statistic\n",
        "  lasso_correlation_scores_interpolated[i,2] = pearsonr(y_test3[:,i], subject_3_interpolated).statistic\n",
        "\n",
        "# Leader Lasso Interpolation\n",
        "leader_lasso_pred_1_interpolated = np.zeros((147500,5))\n",
        "leader_lasso_pred_2_interpolated = np.zeros((147500,5))\n",
        "leader_lasso_pred_3_interpolated = np.zeros((147500,5))\n",
        "\n",
        "for i in range(5):\n",
        "  subject_1_cs = CubicSpline(np.arange(leader_x1.shape[0])[start_index::window_displacement][0:-cutoff], leader_lasso_pred_1[:,i])\n",
        "  subject_1_interpolated = subject_1_cs(np.arange(leader_x1.shape[0])[start_index:-ending_index])\n",
        "  subject_1_interpolated = np.insert(subject_1_interpolated, 0, subject_1_interpolated[0]*np.ones(start_index))\n",
        "  subject_1_interpolated = np.insert(subject_1_interpolated, -1, subject_1_interpolated[-1]*np.ones(ending_index))\n",
        "  leader_lasso_pred_1_interpolated[:,i] = subject_1_interpolated\n",
        "\n",
        "  subject_2_cs = CubicSpline(np.arange(leader_x2.shape[0])[start_index::window_displacement][0:-cutoff], leader_lasso_pred_2[:,i])\n",
        "  subject_2_interpolated = subject_2_cs(np.arange(leader_x2.shape[0])[start_index:-ending_index])\n",
        "  subject_2_interpolated = np.insert(subject_2_interpolated, 0, subject_2_interpolated[0]*np.ones(start_index))\n",
        "  subject_2_interpolated = np.insert(subject_2_interpolated, -1, subject_2_interpolated[-1]*np.ones(ending_index))\n",
        "  leader_lasso_pred_2_interpolated[:,i] = subject_2_interpolated\n",
        "\n",
        "  subject_3_cs = CubicSpline(np.arange(leader_x3.shape[0])[start_index::window_displacement][0:-cutoff], leader_lasso_pred_3[:,i])\n",
        "  subject_3_interpolated = subject_3_cs(np.arange(leader_x3.shape[0])[start_index:-ending_index])\n",
        "  subject_3_interpolated = np.insert(subject_3_interpolated, 0, subject_3_interpolated[0]*np.ones(start_index))\n",
        "  subject_3_interpolated = np.insert(subject_3_interpolated, -1, subject_3_interpolated[-1]*np.ones(ending_index))\n",
        "  leader_lasso_pred_3_interpolated[:,i] = subject_3_interpolated\n",
        "\n",
        "\n",
        "print('Correlation Scores for the test finger angle predictions using the Lasso \\\n",
        "model. The rows represent fingers 1-3, 5 and the columns represent \\\n",
        "subjects 1-3.')\n",
        "print(lasso_correlation_scores_interpolated)\n",
        "#print(np.mean(svr_correlation_scores_interpolated, axis=0))\n",
        "print('The mean correlation score across fingers and subjects for the Lasso model:')\n",
        "print(np.mean(np.delete(lasso_correlation_scores_interpolated, 3, 0)))\n"
      ],
      "metadata": {
        "colab": {
          "base_uri": "https://localhost:8080/"
        },
        "id": "dV49DsVkADjq",
        "outputId": "f1c7f100-ccca-4892-8922-5ca14a784a3d"
      },
      "execution_count": null,
      "outputs": [
        {
          "output_type": "stream",
          "name": "stdout",
          "text": [
            "Correlation Scores for the test finger angle predictions using the Lasso model. The rows represent fingers 1-3, 5 and the columns represent subjects 1-3.\n",
            "[[ 0.56304822  0.34476562  0.46168878]\n",
            " [ 0.61110238  0.26304442  0.41769809]\n",
            " [ 0.06104667  0.09592911  0.47732934]\n",
            " [ 0.53857579  0.48972747  0.55956249]\n",
            " [-0.15162241  0.0710071   0.38244287]]\n",
            "The mean correlation score across fingers and subjects for the Lasso model:\n",
            "0.2997900155411907\n"
          ]
        }
      ]
    },
    {
      "cell_type": "code",
      "source": [
        "'''\n",
        "print(correlation_scores_interpolated)\n",
        "print(svr_correlation_scores_interpolated)\n",
        "final_test_correlation_scores = np.zeros((5,3))\n",
        "final_test_prediction_1 = np.zeros((len(y_test1),5))\n",
        "final_test_prediction_2 = np.zeros((len(y_test2),5))\n",
        "final_test_prediction_3 = np.zeros((len(y_test3),5))\n",
        "final_leader_prediction_1 = np.zeros((147500,5))\n",
        "final_leader_prediction_2 = np.zeros((147500,5))\n",
        "final_leader_prediction_3 = np.zeros((147500,5))\n",
        "\n",
        "for i in range(5):\n",
        "  for j in range(3):\n",
        "    linear_score = correlation_scores_interpolated[i][j]\n",
        "    svr_score = svr_correlation_scores_interpolated[i][j]\n",
        "    if j==0:\n",
        "      if True:#linear_score >= svr_score:\n",
        "        final_test_prediction_1[:,i] = lin_pred_1[:,i]\n",
        "        final_leader_prediction_1[:,i] = leader_lin_subject_1_interpolated[:,i]\n",
        "      else:\n",
        "        final_test_prediction_1[:,i] = svr_subject_1_interpolated[:,i]\n",
        "        final_leader_prediction_1[:,i] = leader_svr_pred_1_interpolated[:,i]\n",
        "    if j==1:\n",
        "      if True:#linear_score >= svr_score:\n",
        "        final_test_prediction_2[:,i] = lin_pred_2[:,i]\n",
        "        final_leader_prediction_2[:,i] = leader_lin_subject_2_interpolated[:,i]\n",
        "      else:\n",
        "        final_test_prediction_2[:,i] = svr_subject_2_interpolated[:,i]\n",
        "        final_leader_prediction_2[:,i] = leader_svr_pred_2_interpolated[:,i]\n",
        "    if j==2:\n",
        "      if True:#linear_score >= svr_score:\n",
        "        final_test_prediction_3[:,i] = lin_pred_3[:,i]\n",
        "        final_leader_prediction_3[:,i] = leader_lin_subject_3_interpolated[:,i]\n",
        "      else:\n",
        "        final_test_prediction_3[:,i] = svr_subject_3_interpolated[:,i]\n",
        "        final_leader_prediction_3[:,i] = leader_svr_pred_3_interpolated[:,i]\n",
        "      \n",
        "for i in range(5):     \n",
        "  final_test_correlation_scores[i,0] = pearsonr(y_test1[:,i], final_test_prediction_1[:,i]).statistic\n",
        "  final_test_correlation_scores[i,1] = pearsonr(y_test2[:,i], final_test_prediction_2[:,i]).statistic\n",
        "  final_test_correlation_scores[i,2] = pearsonr(y_test3[:,i], final_test_prediction_3[:,i]).statistic\n",
        "\n",
        "final_test_correlation_scores = np.delete(final_test_correlation_scores, 3, 0)\n",
        "print('Correlation Scores for the test finger angle predictions using the Final \\\n",
        "model. The rows represent fingers 1-3, 5 and the columns represent \\\n",
        "subjects 1-3.')\n",
        "print(final_test_correlation_scores)\n",
        "#print(np.mean(svr_correlation_scores_interpolated, axis=0))\n",
        "print('The mean correlation score across fingers and subjects for the final model:')\n",
        "\n",
        "print(np.mean(final_test_correlation_scores))\n",
        "'''"
      ],
      "metadata": {
        "colab": {
          "base_uri": "https://localhost:8080/",
          "height": 157
        },
        "id": "721E6V84W9F2",
        "outputId": "77fd5aca-c110-44ba-bc33-46b4aeb86730"
      },
      "execution_count": null,
      "outputs": [
        {
          "output_type": "execute_result",
          "data": {
            "text/plain": [
              "\"\\nprint(correlation_scores_interpolated)\\nprint(svr_correlation_scores_interpolated)\\nfinal_test_correlation_scores = np.zeros((5,3))\\nfinal_test_prediction_1 = np.zeros((len(y_test1),5))\\nfinal_test_prediction_2 = np.zeros((len(y_test2),5))\\nfinal_test_prediction_3 = np.zeros((len(y_test3),5))\\nfinal_leader_prediction_1 = np.zeros((147500,5))\\nfinal_leader_prediction_2 = np.zeros((147500,5))\\nfinal_leader_prediction_3 = np.zeros((147500,5))\\n\\nfor i in range(5):\\n  for j in range(3):\\n    linear_score = correlation_scores_interpolated[i][j]\\n    svr_score = svr_correlation_scores_interpolated[i][j]\\n    if j==0:\\n      if True:#linear_score >= svr_score:\\n        final_test_prediction_1[:,i] = lin_pred_1[:,i]\\n        final_leader_prediction_1[:,i] = leader_lin_subject_1_interpolated[:,i]\\n      else:\\n        final_test_prediction_1[:,i] = svr_subject_1_interpolated[:,i]\\n        final_leader_prediction_1[:,i] = leader_svr_pred_1_interpolated[:,i]\\n    if j==1:\\n      if True:#linear_score >= svr_score:\\n        final_test_prediction_2[:,i] = lin_pred_2[:,i]\\n        final_leader_prediction_2[:,i] = leader_lin_subject_2_interpolated[:,i]\\n      else:\\n        final_test_prediction_2[:,i] = svr_subject_2_interpolated[:,i]\\n        final_leader_prediction_2[:,i] = leader_svr_pred_2_interpolated[:,i]\\n    if j==2:\\n      if True:#linear_score >= svr_score:\\n        final_test_prediction_3[:,i] = lin_pred_3[:,i]\\n        final_leader_prediction_3[:,i] = leader_lin_subject_3_interpolated[:,i]\\n      else:\\n        final_test_prediction_3[:,i] = svr_subject_3_interpolated[:,i]\\n        final_leader_prediction_3[:,i] = leader_svr_pred_3_interpolated[:,i]\\n      \\nfor i in range(5):     \\n  final_test_correlation_scores[i,0] = pearsonr(y_test1[:,i], final_test_prediction_1[:,i]).statistic\\n  final_test_correlation_scores[i,1] = pearsonr(y_test2[:,i], final_test_prediction_2[:,i]).statistic\\n  final_test_correlation_scores[i,2] = pearsonr(y_test3[:,i], final_test_prediction_3[:,i]).statistic\\n\\nfinal_test_correlation_scores = np.delete(final_test_correlation_scores, 3, 0)\\nprint('Correlation Scores for the test finger angle predictions using the Final model. The rows represent fingers 1-3, 5 and the columns represent subjects 1-3.')\\nprint(final_test_correlation_scores)\\n#print(np.mean(svr_correlation_scores_interpolated, axis=0))\\nprint('The mean correlation score across fingers and subjects for the final model:')\\n\\nprint(np.mean(final_test_correlation_scores))\\n\""
            ],
            "application/vnd.google.colaboratory.intrinsic+json": {
              "type": "string"
            }
          },
          "metadata": {},
          "execution_count": 176
        }
      ]
    },
    {
      "cell_type": "code",
      "source": [
        "\n",
        "new_correlation_scores_interpolated = np.zeros((5,3))\n",
        "\n",
        "ending_index = len(y_test1) - np.arange(len(y_test1))[start_index::window_displacement][0:-cutoff][-1]\n",
        "\n",
        "new_lin_pred_1 = np.zeros((len(y_test1),5))\n",
        "new_lin_pred_2 = np.zeros((len(y_test1),5))\n",
        "new_lin_pred_3 = np.zeros((len(y_test1),5))\n",
        "\n",
        "new_leader_lin_pred_1 = np.zeros((147500,5))\n",
        "new_leader_lin_pred_2 = np.zeros((147500,5))\n",
        "new_leader_lin_pred_3 = np.zeros((147500,5))\n",
        "\n",
        "for i in range(5):\n",
        "  num_ind = 30\n",
        "\n",
        "  ind_1 = np.argpartition(np.abs(lasso_1_coeff[i]), -num_ind)[-num_ind:]\n",
        "  reduced_feats_1 = feats_1[:,np.array(ind_1)]\n",
        "\n",
        "  ind_2 = np.argpartition(np.abs(lasso_2_coeff[i]), -num_ind)[-num_ind:]\n",
        "  reduced_feats_2 = feats_2[:,np.array(ind_2)]\n",
        "\n",
        "  ind_3 = np.argpartition(np.abs(lasso_3_coeff[i]), -num_ind)[-num_ind:]\n",
        "  reduced_feats_3 = feats_3[:,np.array(ind_3)]\n",
        "\n",
        "  reduced_R_1 = create_R_matrix(reduced_feats_1, n)\n",
        "  reduced_R_2 = create_R_matrix(reduced_feats_2, n)\n",
        "  reduced_R_3 = create_R_matrix(reduced_feats_3, n)\n",
        "\n",
        "  reduced_f_1 = np.linalg.pinv(reduced_R_1.T@reduced_R_1)@(reduced_R_1.T@down_sampled_glove_train_1[:,i])\n",
        "  reduced_f_2 = np.linalg.pinv(reduced_R_2.T@reduced_R_2)@(reduced_R_2.T@down_sampled_glove_train_2[:,i])\n",
        "  reduced_f_3 = np.linalg.pinv(reduced_R_3.T@reduced_R_3)@(reduced_R_3.T@down_sampled_glove_train_3[:,i])\n",
        "\n",
        "  reduced_feats_test_1 = feats_test_1[:,np.array(ind_1)]\n",
        "  reduced_R_1_test = create_R_matrix(reduced_feats_test_1, n)\n",
        "\n",
        "  reduced_feats_test_2 = feats_test_2[:,np.array(ind_2)]\n",
        "  reduced_R_2_test = create_R_matrix(reduced_feats_test_2, n)\n",
        "\n",
        "  reduced_feats_test_3 = feats_test_3[:,np.array(ind_3)]\n",
        "  reduced_R_3_test = create_R_matrix(reduced_feats_test_3, n)\n",
        "\n",
        "  new_pred_1 = reduced_R_1_test @ reduced_f_1\n",
        "  new_pred_2 = reduced_R_2_test @ reduced_f_2\n",
        "  new_pred_3 = reduced_R_3_test @ reduced_f_3\n",
        "\n",
        "\n",
        "  subject_1_cs = CubicSpline(np.arange(len(y_test1))[start_index::window_displacement][0:-cutoff], new_pred_1)\n",
        "  subject_1_interpolated = subject_1_cs(np.arange(len(y_test1))[start_index:-ending_index])\n",
        "  subject_1_interpolated = np.insert(subject_1_interpolated, 0, subject_1_interpolated[0]*np.ones(start_index))\n",
        "  subject_1_interpolated = np.insert(subject_1_interpolated, -1, subject_1_interpolated[-1]*np.ones(ending_index))\n",
        "  new_lin_pred_1[:,i] = subject_1_interpolated\n",
        "\n",
        "  subject_2_cs = CubicSpline(np.arange(len(y_test2))[start_index::window_displacement][0:-cutoff], new_pred_2)\n",
        "  subject_2_interpolated = subject_2_cs(np.arange(len(y_test2))[start_index:-ending_index])\n",
        "  subject_2_interpolated = np.insert(subject_2_interpolated, 0, subject_2_interpolated[0]*np.ones(start_index))\n",
        "  subject_2_interpolated = np.insert(subject_2_interpolated, -1, subject_2_interpolated[-1]*np.ones(ending_index))\n",
        "  new_lin_pred_2[:,i] = subject_2_interpolated\n",
        "\n",
        "  subject_3_cs = CubicSpline(np.arange(len(y_test3))[start_index::window_displacement][0:-cutoff], new_pred_3)\n",
        "  subject_3_interpolated = subject_3_cs(np.arange(len(y_test3))[start_index:-ending_index])\n",
        "  subject_3_interpolated = np.insert(subject_3_interpolated, 0, subject_3_interpolated[0]*np.ones(start_index))\n",
        "  subject_3_interpolated = np.insert(subject_3_interpolated, -1, subject_3_interpolated[-1]*np.ones(ending_index))\n",
        "  new_lin_pred_3[:,i] = subject_3_interpolated\n",
        "\n",
        "  new_correlation_scores_interpolated[i,0] = pearsonr(y_test1[:,i], subject_1_interpolated).statistic\n",
        "  new_correlation_scores_interpolated[i,1] = pearsonr(y_test2[:,i], subject_2_interpolated).statistic\n",
        "  new_correlation_scores_interpolated[i,2] = pearsonr(y_test3[:,i], subject_3_interpolated).statistic\n",
        "\n",
        "  #### ADD LEADER NEW LINEAR PREDICTION HERE ######\n",
        "  reduced_leader_feats_test_1 = leader_feats_test_1[:,np.array(ind_1)]\n",
        "  reduced_leader_R_1_test = create_R_matrix(reduced_leader_feats_test_1, n)\n",
        "\n",
        "  reduced_leader_feats_test_2 = leader_feats_test_2[:,np.array(ind_2)]\n",
        "  reduced_leader_R_2_test = create_R_matrix(reduced_leader_feats_test_2, n)\n",
        "\n",
        "  reduced_leader_feats_test_3 = leader_feats_test_3[:,np.array(ind_3)]\n",
        "  reduced_leader_R_3_test = create_R_matrix(reduced_leader_feats_test_3, n)\n",
        "\n",
        "  reduced_leader_lin_pred_1 = reduced_leader_R_1_test @ reduced_f_1\n",
        "\n",
        "  reduced_leader_lin_pred_2 = reduced_leader_R_2_test @ reduced_f_2\n",
        "\n",
        "  reduced_leader_lin_pred_3 = reduced_leader_R_3_test @ reduced_f_3\n",
        "\n",
        "  subject_1_cs = CubicSpline(np.arange(leader_x1.shape[0])[start_index::window_displacement][0:-cutoff], reduced_leader_lin_pred_1)\n",
        "  subject_1_interpolated = subject_1_cs(np.arange(leader_x1.shape[0])[start_index:-ending_index])\n",
        "  subject_1_interpolated = np.insert(subject_1_interpolated, 0, subject_1_interpolated[0]*np.ones(start_index))\n",
        "  subject_1_interpolated = np.insert(subject_1_interpolated, -1, subject_1_interpolated[-1]*np.ones(ending_index))\n",
        "  new_leader_lin_pred_1[:,i] = subject_1_interpolated\n",
        "\n",
        "  subject_2_cs = CubicSpline(np.arange(leader_x2.shape[0])[start_index::window_displacement][0:-cutoff], reduced_leader_lin_pred_2)\n",
        "  subject_2_interpolated = subject_2_cs(np.arange(leader_x2.shape[0])[start_index:-ending_index])\n",
        "  subject_2_interpolated = np.insert(subject_2_interpolated, 0, subject_2_interpolated[0]*np.ones(start_index))\n",
        "  subject_2_interpolated = np.insert(subject_2_interpolated, -1, subject_2_interpolated[-1]*np.ones(ending_index))\n",
        "  new_leader_lin_pred_2[:,i] = subject_2_interpolated\n",
        "\n",
        "  subject_3_cs = CubicSpline(np.arange(leader_x3.shape[0])[start_index::window_displacement][0:-cutoff], reduced_leader_lin_pred_3)\n",
        "  subject_3_interpolated = subject_3_cs(np.arange(leader_x3.shape[0])[start_index:-ending_index])\n",
        "  subject_3_interpolated = np.insert(subject_3_interpolated, 0, subject_3_interpolated[0]*np.ones(start_index))\n",
        "  subject_3_interpolated = np.insert(subject_3_interpolated, -1, subject_3_interpolated[-1]*np.ones(ending_index))\n",
        "  new_leader_lin_pred_3[:,i] = subject_3_interpolated\n",
        "  #################################################\n",
        "\n",
        "\n",
        "print('Correlation Scores for the interpolated test finger angle predictions using the NEW optimal \\\n",
        "linear decoder model. The rows represent fingers 1-3 and 5, and the columns represent \\\n",
        "subjects 1-3.')\n",
        "\n",
        "print(np.delete(new_correlation_scores_interpolated, 3, 0))\n",
        "\n",
        "print('The mean correlation score across fingers (except 4th finger) and subjects for the optimal linear decoder model:')\n",
        "print(np.mean(np.delete(new_correlation_scores_interpolated, 3, 0)))\n"
      ],
      "metadata": {
        "colab": {
          "base_uri": "https://localhost:8080/"
        },
        "id": "oMksdD8WRHyR",
        "outputId": "8780f4a1-e966-4b34-ee81-a860862d0802"
      },
      "execution_count": null,
      "outputs": [
        {
          "output_type": "stream",
          "name": "stdout",
          "text": [
            "Correlation Scores for the interpolated test finger angle predictions using the NEW optimal linear decoder model. The rows represent fingers 1-3 and 5, and the columns represent subjects 1-3.\n",
            "[[ 0.59311563  0.52385068  0.61623904]\n",
            " [ 0.68314247  0.26891068  0.50654776]\n",
            " [ 0.18045884  0.20226109  0.67348992]\n",
            " [-0.32979627  0.15394554  0.5092506 ]]\n",
            "The mean correlation score across fingers (except 4th finger) and subjects for the optimal linear decoder model:\n",
            "0.38178466429097924\n"
          ]
        }
      ]
    },
    {
      "cell_type": "code",
      "source": [
        "#create an example submission array\n",
        "predictions = np.zeros((3,1), dtype=object)\n",
        "predictions[0,0] = new_leader_lin_pred_1\n",
        "predictions[1,0] = new_leader_lin_pred_2\n",
        "predictions[2,0] = new_leader_lin_pred_3\n",
        "#save the array using the right format\n",
        "savemat('predictions.mat', {'predicted_dg':predictions})"
      ],
      "metadata": {
        "id": "Ep7wQpZZe8r6"
      },
      "execution_count": null,
      "outputs": []
    }
  ],
  "metadata": {
    "colab": {
      "provenance": [],
      "include_colab_link": true
    },
    "kernelspec": {
      "display_name": "Python 3",
      "name": "python3"
    },
    "language_info": {
      "name": "python"
    }
  },
  "nbformat": 4,
  "nbformat_minor": 0
}